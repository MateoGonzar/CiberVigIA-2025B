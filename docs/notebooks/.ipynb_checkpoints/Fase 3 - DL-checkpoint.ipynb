{
 "cells": [
  {
   "cell_type": "markdown",
   "id": "fc0ec1a1-59dd-42f7-ab32-1198ae7f332c",
   "metadata": {},
   "source": [
    "# 📊 Fase 3 – Entrenamiento de Modelo DL (Continuación)\n",
    "\n",
    "## 🎯 Objetivo\n",
    "Construir un clasificador utilizando un modelo LSTM RNN optimizado con Nadam para diferenciar entre tráfico **normal** y **sospechoso** en redes monitoreadas, como parte del sistema modular de CiberVigIA, específicamente utilizando el dataset CIC.\n",
    "\n",
    "## 🧠 Algoritmo sugerido\n",
    "- **LSTM RNN con Nadam**: Adecuado para datos secuenciales como el tráfico de red, Nadam es un optimizador eficiente.\n",
    "\n",
    "## ⚙️ Pasos técnicos\n",
    "\n",
    "1. **Preparación del dataset (CIC)**\n",
    "   - Cargar el dataset CIC (`/content/sample_data/cic_ids2017_clean.csv`).\n",
    "   - Preprocesamiento del dataset para adecuarlo a la entrada de la red LSTM (normalización, posible secuenciación).\n",
    "   - División en conjunto de entrenamiento y prueba (80/20).\n",
    "   - Separación de variables predictoras (`X`) y etiqueta (`y`).\n",
    "2. **Construcción y entrenamiento del modelo LSTM RNN**\n",
    "   - Definir la arquitectura del modelo LSTM (capas, unidades, activación).\n",
    "   - Compilar el modelo con la función de pérdida adecuada (binary crossentropy) y el optimizador Nadam.\n",
    "   - Entrenar el modelo con los datos de entrenamiento.\n",
    "\n",
    "3. **Evaluación del modelo**\n",
    "   - Evaluar el rendimiento del modelo en el conjunto de prueba.\n",
    "   - Calcular métricas relevantes (accuracy, precision, recall, F1-score).\n",
    "\n",
    "4. **Persistencia del modelo**\n",
    "   - Guardar el modelo entrenado para futuras fases.\n",
    "\n",
    "## 📦 Entregable\n",
    "\n",
    "Modelo entrenado con un rendimiento aceptable sobre el conjunto de prueba, documentando la arquitectura, hiperparámetros y métricas obtenidas.\n",
    "\n",
    "> 💡 *Nota técnica: Para datasets desbalanceados, considera aplicar técnicas como el ajuste de pesos de clase durante el entrenamiento del modelo LSTM.*"
   ]
  },
  {
   "cell_type": "code",
   "execution_count": 3,
   "id": "1e8f4ac2-d01b-4631-a502-23d96dd88fcb",
   "metadata": {
    "editable": true,
    "slideshow": {
     "slide_type": ""
    },
    "tags": []
   },
   "outputs": [],
   "source": [
    "import numpy as np\n",
    "import pandas as pd\n",
    "from sklearn.model_selection import train_test_split\n",
    "from sklearn.metrics import classification_report, confusion_matrix\n",
    "import matplotlib.pyplot as plt\n",
    "import seaborn as sns\n",
    "from tensorflow.keras.models import Sequential\n",
    "from tensorflow.keras.layers import LSTM, Dense, Dropout\n",
    "from tensorflow.keras.optimizers import Nadam\n",
    "from tensorflow.keras.utils import to_categorical\n",
    "import gc  # Para liberar memoria"
   ]
  },
  {
   "cell_type": "markdown",
   "id": "b9b80a1d-2238-44e3-b243-bf9cb670d507",
   "metadata": {},
   "source": [
    "### Paso 1. Cargar el dataset preprocesado"
   ]
  },
  {
   "cell_type": "code",
   "execution_count": 4,
   "id": "586cf5bc-4d0f-4aaa-9f88-cfd4cb3d6a4d",
   "metadata": {},
   "outputs": [
    {
     "name": "stdout",
     "output_type": "stream",
     "text": [
      "Forma del dataset preprocesado: (6771538, 79)\n",
      "Balance de labels: Label\n",
      "Heartbleed                    2367953\n",
      "BENIGN                        2367953\n",
      "SSH-Patator                    296766\n",
      "DoS GoldenEye                  248503\n",
      "PortScan                       223943\n",
      "Infiltration                   199964\n",
      "Bot                            198047\n",
      "DoS Hulk                       172849\n",
      "FTP-Patator                    143176\n",
      "DDoS                           130288\n",
      "Web Attack � Sql Injection      98545\n",
      "Web Attack � Brute Force        97866\n",
      "DoS slowloris                   90639\n",
      "DoS Slowhttptest                86492\n",
      "Web Attack � XSS                48554\n",
      "Name: count, dtype: int64\n"
     ]
    }
   ],
   "source": [
    "df = pd.read_csv('../../data/processed/cic_ids2017_clean.csv')\n",
    "print(\"Forma del dataset preprocesado:\", df.shape)\n",
    "print(\"Balance de labels:\", df['Label'].value_counts())"
   ]
  },
  {
   "cell_type": "markdown",
   "id": "2131d19c-cba4-4474-9a61-afde56d1c522",
   "metadata": {},
   "source": [
    "### Paso 2: Preparar datos"
   ]
  },
  {
   "cell_type": "code",
   "execution_count": null,
   "id": "5a114779-6a05-47c7-9386-1d1789206fa2",
   "metadata": {},
   "outputs": [],
   "source": [
    "y = df['Label']\n",
    "X = df.drop('Label', axis=1)"
   ]
  }
 ],
 "metadata": {
  "kernelspec": {
   "display_name": "Python 3 (ipykernel)",
   "language": "python",
   "name": "python3"
  },
  "language_info": {
   "codemirror_mode": {
    "name": "ipython",
    "version": 3
   },
   "file_extension": ".py",
   "mimetype": "text/x-python",
   "name": "python",
   "nbconvert_exporter": "python",
   "pygments_lexer": "ipython3",
   "version": "3.12.11"
  }
 },
 "nbformat": 4,
 "nbformat_minor": 5
}

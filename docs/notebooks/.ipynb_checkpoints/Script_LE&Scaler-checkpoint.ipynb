{
 "cells": [
  {
   "cell_type": "code",
   "execution_count": 1,
   "id": "9f0a2ee0-e782-4fab-a111-8ab507a80112",
   "metadata": {},
   "outputs": [],
   "source": [
    "import pandas as pd\n",
    "from sklearn.preprocessing import StandardScaler, LabelEncoder\n",
    "import joblib"
   ]
  },
  {
   "cell_type": "markdown",
   "id": "7279e07b-01c4-40a8-8ea1-0068cfef494c",
   "metadata": {},
   "source": [
    "Cargar Dataset Preprocesado"
   ]
  },
  {
   "cell_type": "code",
   "execution_count": 2,
   "id": "5460b6a1-e6da-4f7e-8240-70cd51e51a41",
   "metadata": {},
   "outputs": [
    {
     "name": "stdout",
     "output_type": "stream",
     "text": [
      "Forma del dataset: (6771538, 79)\n",
      "Balance de labels: Label\n",
      "Heartbleed                    2367953\n",
      "BENIGN                        2367953\n",
      "SSH-Patator                    296766\n",
      "DoS GoldenEye                  248503\n",
      "PortScan                       223943\n",
      "Infiltration                   199964\n",
      "Bot                            198047\n",
      "DoS Hulk                       172849\n",
      "FTP-Patator                    143176\n",
      "DDoS                           130288\n",
      "Web Attack � Sql Injection      98545\n",
      "Web Attack � Brute Force        97866\n",
      "DoS slowloris                   90639\n",
      "DoS Slowhttptest                86492\n",
      "Web Attack � XSS                48554\n",
      "Name: count, dtype: int64\n"
     ]
    }
   ],
   "source": [
    "df = pd.read_csv('../../data/processed/cic_ids2017_clean.csv')\n",
    "print(\"Forma del dataset:\", df.shape)\n",
    "print(\"Balance de labels:\", df['Label'].value_counts())"
   ]
  },
  {
   "cell_type": "markdown",
   "id": "c4395c1a-50d0-4c2f-8680-a4d361de58cd",
   "metadata": {},
   "source": [
    "Separar features y labels"
   ]
  },
  {
   "cell_type": "code",
   "execution_count": 3,
   "id": "53f0f159-9d6a-47b2-8951-d7a035da04d8",
   "metadata": {},
   "outputs": [],
   "source": [
    "X = df.drop('Label', axis=1)\n",
    "y = df['Label']"
   ]
  },
  {
   "cell_type": "markdown",
   "id": "6786356d-fdb2-4356-9698-28edd53b83b5",
   "metadata": {},
   "source": [
    "Recrear StandardScaler (Fase 2: escalar numéricas)"
   ]
  },
  {
   "cell_type": "code",
   "execution_count": 4,
   "id": "b8281c0d-b5d3-44e9-8cb9-f3c103b68113",
   "metadata": {},
   "outputs": [
    {
     "name": "stdout",
     "output_type": "stream",
     "text": [
      "Scaler guardado en 'scaler_cic.pkl'\n"
     ]
    }
   ],
   "source": [
    "scaler = StandardScaler()\n",
    "scaler.fit(X.select_dtypes(include=['int64', 'float64']))  # Fit en columnas numéricas\n",
    "joblib.dump(scaler, '../../models/scaler_cic.pkl')\n",
    "print(\"Scaler guardado en 'scaler_cic.pkl'\")"
   ]
  },
  {
   "cell_type": "markdown",
   "id": "4c213551-e493-4585-82ec-62b08fca86e5",
   "metadata": {},
   "source": [
    "Recrear LabelEncoder (Fase 3: encode labels)"
   ]
  },
  {
   "cell_type": "code",
   "execution_count": 5,
   "id": "fcc4d767-c26c-4f5d-a517-6e6aa7799271",
   "metadata": {},
   "outputs": [
    {
     "name": "stdout",
     "output_type": "stream",
     "text": [
      "LabelEncoder guardado en 'label_encoder_cic.pkl'\n",
      "Clases en orden encoded (0 a n): ['BENIGN' 'Bot' 'DDoS' 'DoS GoldenEye' 'DoS Hulk' 'DoS Slowhttptest'\n",
      " 'DoS slowloris' 'FTP-Patator' 'Heartbleed' 'Infiltration' 'PortScan'\n",
      " 'SSH-Patator' 'Web Attack � Brute Force' 'Web Attack � Sql Injection'\n",
      " 'Web Attack � XSS']\n",
      "Vector 0 corresponde a: BENIGN\n"
     ]
    }
   ],
   "source": [
    "le = LabelEncoder()\n",
    "le.fit(y)\n",
    "joblib.dump(le, '../../models/label_encoder_cic.pkl')\n",
    "print(\"LabelEncoder guardado en 'label_encoder_cic.pkl'\")\n",
    "print(\"Clases en orden encoded (0 a n):\", le.classes_)\n",
    "print(\"Vector 0 corresponde a:\", le.inverse_transform([0])[0])"
   ]
  }
 ],
 "metadata": {
  "kernelspec": {
   "display_name": "Python 3 (ipykernel)",
   "language": "python",
   "name": "python3"
  },
  "language_info": {
   "codemirror_mode": {
    "name": "ipython",
    "version": 3
   },
   "file_extension": ".py",
   "mimetype": "text/x-python",
   "name": "python",
   "nbconvert_exporter": "python",
   "pygments_lexer": "ipython3",
   "version": "3.12.11"
  }
 },
 "nbformat": 4,
 "nbformat_minor": 5
}

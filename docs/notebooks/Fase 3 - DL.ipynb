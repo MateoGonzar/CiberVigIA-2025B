{
 "cells": [
  {
   "cell_type": "markdown",
   "id": "fc0ec1a1-59dd-42f7-ab32-1198ae7f332c",
   "metadata": {},
   "source": [
    "# 📊 Fase 3 – Entrenamiento de Modelo DL (Continuación)\n",
    "\n",
    "## 🎯 Objetivo\n",
    "Construir un clasificador utilizando un modelo LSTM RNN optimizado con Nadam para diferenciar entre tráfico **normal** y **sospechoso** en redes monitoreadas, como parte del sistema modular de CiberVigIA, específicamente utilizando el dataset CIC.\n",
    "\n",
    "## 🧠 Algoritmo sugerido\n",
    "- **LSTM RNN con Nadam**: Adecuado para datos secuenciales como el tráfico de red, Nadam es un optimizador eficiente.\n",
    "\n",
    "## ⚙️ Pasos técnicos\n",
    "\n",
    "1. **Preparación del dataset (CIC)**\n",
    "   - Cargar el dataset CIC (`/content/sample_data/cic_ids2017_clean.csv`).\n",
    "   - Preprocesamiento del dataset para adecuarlo a la entrada de la red LSTM (normalización, posible secuenciación).\n",
    "   - División en conjunto de entrenamiento y prueba (80/20).\n",
    "   - Separación de variables predictoras (`X`) y etiqueta (`y`).\n",
    "2. **Construcción y entrenamiento del modelo LSTM RNN**\n",
    "   - Definir la arquitectura del modelo LSTM (capas, unidades, activación).\n",
    "   - Compilar el modelo con la función de pérdida adecuada (binary crossentropy) y el optimizador Nadam.\n",
    "   - Entrenar el modelo con los datos de entrenamiento.\n",
    "\n",
    "3. **Evaluación del modelo**\n",
    "   - Evaluar el rendimiento del modelo en el conjunto de prueba.\n",
    "   - Calcular métricas relevantes (accuracy, precision, recall, F1-score).\n",
    "\n",
    "4. **Persistencia del modelo**\n",
    "   - Guardar el modelo entrenado para futuras fases.\n",
    "\n",
    "## 📦 Entregable\n",
    "\n",
    "Modelo entrenado con un rendimiento aceptable sobre el conjunto de prueba, documentando la arquitectura, hiperparámetros y métricas obtenidas.\n",
    "\n",
    "> 💡 *Nota técnica: Para datasets desbalanceados, considera aplicar técnicas como el ajuste de pesos de clase durante el entrenamiento del modelo LSTM.*"
   ]
  },
  {
   "cell_type": "code",
   "execution_count": 1,
   "id": "1e8f4ac2-d01b-4631-a502-23d96dd88fcb",
   "metadata": {
    "editable": true,
    "slideshow": {
     "slide_type": ""
    },
    "tags": []
   },
   "outputs": [],
   "source": [
    "import numpy as np\n",
    "import pandas as pd\n",
    "from sklearn.model_selection import train_test_split\n",
    "from sklearn.metrics import classification_report, confusion_matrix\n",
    "import matplotlib.pyplot as plt\n",
    "import seaborn as sns\n",
    "from tensorflow.keras.models import Sequential\n",
    "from tensorflow.keras.layers import LSTM, Dense, Dropout\n",
    "from tensorflow.keras.optimizers import Nadam\n",
    "from tensorflow.keras.utils import to_categorical\n",
    "import gc  # Para liberar memoria"
   ]
  },
  {
   "cell_type": "markdown",
   "id": "b9b80a1d-2238-44e3-b243-bf9cb670d507",
   "metadata": {},
   "source": [
    "### Paso 1. Cargar el dataset preprocesado"
   ]
  },
  {
   "cell_type": "code",
   "execution_count": 2,
   "id": "586cf5bc-4d0f-4aaa-9f88-cfd4cb3d6a4d",
   "metadata": {},
   "outputs": [
    {
     "name": "stdout",
     "output_type": "stream",
     "text": [
      "Forma del dataset preprocesado: (6771538, 79)\n",
      "Balance de labels: Label\n",
      "Heartbleed                    2367953\n",
      "BENIGN                        2367953\n",
      "SSH-Patator                    296766\n",
      "DoS GoldenEye                  248503\n",
      "PortScan                       223943\n",
      "Infiltration                   199964\n",
      "Bot                            198047\n",
      "DoS Hulk                       172849\n",
      "FTP-Patator                    143176\n",
      "DDoS                           130288\n",
      "Web Attack � Sql Injection      98545\n",
      "Web Attack � Brute Force        97866\n",
      "DoS slowloris                   90639\n",
      "DoS Slowhttptest                86492\n",
      "Web Attack � XSS                48554\n",
      "Name: count, dtype: int64\n"
     ]
    }
   ],
   "source": [
    "df = pd.read_csv('../../data/processed/cic_ids2017_clean.csv')\n",
    "print(\"Forma del dataset preprocesado:\", df.shape)\n",
    "print(\"Balance de labels:\", df['Label'].value_counts())"
   ]
  },
  {
   "cell_type": "markdown",
   "id": "2131d19c-cba4-4474-9a61-afde56d1c522",
   "metadata": {},
   "source": [
    "### Paso 2: Preparar datos"
   ]
  },
  {
   "cell_type": "code",
   "execution_count": 3,
   "id": "5a114779-6a05-47c7-9386-1d1789206fa2",
   "metadata": {},
   "outputs": [],
   "source": [
    "y = df['Label']\n",
    "X = df.drop('Label', axis=1)"
   ]
  },
  {
   "cell_type": "markdown",
   "id": "44184f36-9c2b-4f79-9ca1-eeb7832e7413",
   "metadata": {},
   "source": [
    "Encoding para el label"
   ]
  },
  {
   "cell_type": "code",
   "execution_count": 4,
   "id": "c410ecd6-7462-48ab-91e4-8cc336e42650",
   "metadata": {},
   "outputs": [
    {
     "name": "stdout",
     "output_type": "stream",
     "text": [
      "Clases en orden encoded (0 a n): ['BENIGN' 'Bot' 'DDoS' 'DoS GoldenEye' 'DoS Hulk' 'DoS Slowhttptest'\n",
      " 'DoS slowloris' 'FTP-Patator' 'Heartbleed' 'Infiltration' 'PortScan'\n",
      " 'SSH-Patator' 'Web Attack � Brute Force' 'Web Attack � Sql Injection'\n",
      " 'Web Attack � XSS']\n",
      "Vector 0 corresponde a: BENIGN\n"
     ]
    }
   ],
   "source": [
    "from sklearn.preprocessing import LabelEncoder\n",
    "le = LabelEncoder()\n",
    "y_encoded = le.fit_transform(y)\n",
    "num_classes = len(le.classes_)\n",
    "y_categorical = to_categorical(y_encoded, num_classes=num_classes)\n",
    "print(\"Clases en orden encoded (0 a n):\", le.classes_)\n",
    "label_for_0 = le.inverse_transform([0])[0]\n",
    "print(\"Vector 0 corresponde a:\", label_for_0)"
   ]
  },
  {
   "cell_type": "markdown",
   "id": "eb8274e3-fbf7-4046-9f41-7e528163eb62",
   "metadata": {},
   "source": [
    "Reshape para LSTM (3D: samples, timesteps=1, features)"
   ]
  },
  {
   "cell_type": "code",
   "execution_count": 5,
   "id": "951512e5-0d70-4f7b-9165-864fc802d688",
   "metadata": {},
   "outputs": [],
   "source": [
    "X_np = X.values  # A numpy\n",
    "X_reshaped = X_np.reshape((X_np.shape[0], 1, X_np.shape[1]))"
   ]
  },
  {
   "cell_type": "markdown",
   "id": "7473daed-9b53-43c7-a67b-df4abff1ef8d",
   "metadata": {},
   "source": [
    "Split train/test/validation"
   ]
  },
  {
   "cell_type": "code",
   "execution_count": 6,
   "id": "e508958f-02fa-4a08-a3f3-372f2663cfcc",
   "metadata": {},
   "outputs": [
    {
     "name": "stdout",
     "output_type": "stream",
     "text": [
      "Formas: Train (4740076, 1, 78) Val (1015731, 1, 78) Test (1015731, 1, 78)\n"
     ]
    }
   ],
   "source": [
    "X_train, X_temp, y_train, y_temp = train_test_split(X_reshaped, y_categorical, test_size=0.3, random_state=42)\n",
    "X_val, X_test, y_val, y_test = train_test_split(X_temp, y_temp, test_size=0.5, random_state=42)\n",
    "print(\"Formas: Train\", X_train.shape, \"Val\", X_val.shape, \"Test\", X_test.shape)"
   ]
  },
  {
   "cell_type": "code",
   "execution_count": 7,
   "id": "980ec1f6-4ea6-4bd7-b860-836bcb225563",
   "metadata": {},
   "outputs": [
    {
     "data": {
      "text/plain": [
       "0"
      ]
     },
     "execution_count": 7,
     "metadata": {},
     "output_type": "execute_result"
    }
   ],
   "source": [
    "gc.collect()"
   ]
  },
  {
   "cell_type": "markdown",
   "id": "cb8c1427-5521-45fa-a266-602b9344b61f",
   "metadata": {},
   "source": [
    "### Paso 3: Construir Modelo LSTM RNN"
   ]
  },
  {
   "cell_type": "code",
   "execution_count": 13,
   "id": "ca514650-d5db-4bda-9f5e-9f343ed89708",
   "metadata": {},
   "outputs": [],
   "source": [
    "model = Sequential()\n",
    "model.add(LSTM(units=64, return_sequences=True, input_shape=(X_train.shape[1], X_train.shape[2])))\n",
    "model.add(Dropout(0.2))\n",
    "model.add(LSTM(units=64, return_sequences=False))\n",
    "model.add(Dropout(0.2))\n",
    "model.add(Dense(units=32, activation='relu'))\n",
    "model.add(Dense(units=num_classes, activation='softmax'))"
   ]
  },
  {
   "cell_type": "markdown",
   "id": "a1280c7b-94d7-43de-ba3d-8cf7bf205a8e",
   "metadata": {},
   "source": [
    "Optimizador Nadam"
   ]
  },
  {
   "cell_type": "code",
   "execution_count": 14,
   "id": "7e9a93e4-fc43-4cfb-9c99-0cf9e8859c26",
   "metadata": {},
   "outputs": [],
   "source": [
    "optimizer = Nadam(learning_rate=0.001)\n",
    "model.compile(optimizer=optimizer, loss='categorical_crossentropy', metrics=['accuracy'])"
   ]
  },
  {
   "cell_type": "markdown",
   "id": "6f068660-0239-4e93-9817-b6badfb6d60d",
   "metadata": {},
   "source": [
    "Resumen"
   ]
  },
  {
   "cell_type": "code",
   "execution_count": 15,
   "id": "dbfc687e-9c29-4bad-9c71-ca6a9c13c1e2",
   "metadata": {},
   "outputs": [
    {
     "data": {
      "text/html": [
       "<pre style=\"white-space:pre;overflow-x:auto;line-height:normal;font-family:Menlo,'DejaVu Sans Mono',consolas,'Courier New',monospace\"><span style=\"font-weight: bold\">Model: \"sequential_4\"</span>\n",
       "</pre>\n"
      ],
      "text/plain": [
       "\u001b[1mModel: \"sequential_4\"\u001b[0m\n"
      ]
     },
     "metadata": {},
     "output_type": "display_data"
    },
    {
     "data": {
      "text/html": [
       "<pre style=\"white-space:pre;overflow-x:auto;line-height:normal;font-family:Menlo,'DejaVu Sans Mono',consolas,'Courier New',monospace\">┏━━━━━━━━━━━━━━━━━━━━━━━━━━━━━━━━━┳━━━━━━━━━━━━━━━━━━━━━━━━┳━━━━━━━━━━━━━━━┓\n",
       "┃<span style=\"font-weight: bold\"> Layer (type)                    </span>┃<span style=\"font-weight: bold\"> Output Shape           </span>┃<span style=\"font-weight: bold\">       Param # </span>┃\n",
       "┡━━━━━━━━━━━━━━━━━━━━━━━━━━━━━━━━━╇━━━━━━━━━━━━━━━━━━━━━━━━╇━━━━━━━━━━━━━━━┩\n",
       "│ lstm_4 (<span style=\"color: #0087ff; text-decoration-color: #0087ff\">LSTM</span>)                   │ (<span style=\"color: #00d7ff; text-decoration-color: #00d7ff\">None</span>, <span style=\"color: #00af00; text-decoration-color: #00af00\">1</span>, <span style=\"color: #00af00; text-decoration-color: #00af00\">64</span>)          │        <span style=\"color: #00af00; text-decoration-color: #00af00\">36,608</span> │\n",
       "├─────────────────────────────────┼────────────────────────┼───────────────┤\n",
       "│ dropout_4 (<span style=\"color: #0087ff; text-decoration-color: #0087ff\">Dropout</span>)             │ (<span style=\"color: #00d7ff; text-decoration-color: #00d7ff\">None</span>, <span style=\"color: #00af00; text-decoration-color: #00af00\">1</span>, <span style=\"color: #00af00; text-decoration-color: #00af00\">64</span>)          │             <span style=\"color: #00af00; text-decoration-color: #00af00\">0</span> │\n",
       "├─────────────────────────────────┼────────────────────────┼───────────────┤\n",
       "│ lstm_5 (<span style=\"color: #0087ff; text-decoration-color: #0087ff\">LSTM</span>)                   │ (<span style=\"color: #00d7ff; text-decoration-color: #00d7ff\">None</span>, <span style=\"color: #00af00; text-decoration-color: #00af00\">64</span>)             │        <span style=\"color: #00af00; text-decoration-color: #00af00\">33,024</span> │\n",
       "├─────────────────────────────────┼────────────────────────┼───────────────┤\n",
       "│ dropout_5 (<span style=\"color: #0087ff; text-decoration-color: #0087ff\">Dropout</span>)             │ (<span style=\"color: #00d7ff; text-decoration-color: #00d7ff\">None</span>, <span style=\"color: #00af00; text-decoration-color: #00af00\">64</span>)             │             <span style=\"color: #00af00; text-decoration-color: #00af00\">0</span> │\n",
       "├─────────────────────────────────┼────────────────────────┼───────────────┤\n",
       "│ dense_4 (<span style=\"color: #0087ff; text-decoration-color: #0087ff\">Dense</span>)                 │ (<span style=\"color: #00d7ff; text-decoration-color: #00d7ff\">None</span>, <span style=\"color: #00af00; text-decoration-color: #00af00\">32</span>)             │         <span style=\"color: #00af00; text-decoration-color: #00af00\">2,080</span> │\n",
       "├─────────────────────────────────┼────────────────────────┼───────────────┤\n",
       "│ dense_5 (<span style=\"color: #0087ff; text-decoration-color: #0087ff\">Dense</span>)                 │ (<span style=\"color: #00d7ff; text-decoration-color: #00d7ff\">None</span>, <span style=\"color: #00af00; text-decoration-color: #00af00\">15</span>)             │           <span style=\"color: #00af00; text-decoration-color: #00af00\">495</span> │\n",
       "└─────────────────────────────────┴────────────────────────┴───────────────┘\n",
       "</pre>\n"
      ],
      "text/plain": [
       "┏━━━━━━━━━━━━━━━━━━━━━━━━━━━━━━━━━┳━━━━━━━━━━━━━━━━━━━━━━━━┳━━━━━━━━━━━━━━━┓\n",
       "┃\u001b[1m \u001b[0m\u001b[1mLayer (type)                   \u001b[0m\u001b[1m \u001b[0m┃\u001b[1m \u001b[0m\u001b[1mOutput Shape          \u001b[0m\u001b[1m \u001b[0m┃\u001b[1m \u001b[0m\u001b[1m      Param #\u001b[0m\u001b[1m \u001b[0m┃\n",
       "┡━━━━━━━━━━━━━━━━━━━━━━━━━━━━━━━━━╇━━━━━━━━━━━━━━━━━━━━━━━━╇━━━━━━━━━━━━━━━┩\n",
       "│ lstm_4 (\u001b[38;5;33mLSTM\u001b[0m)                   │ (\u001b[38;5;45mNone\u001b[0m, \u001b[38;5;34m1\u001b[0m, \u001b[38;5;34m64\u001b[0m)          │        \u001b[38;5;34m36,608\u001b[0m │\n",
       "├─────────────────────────────────┼────────────────────────┼───────────────┤\n",
       "│ dropout_4 (\u001b[38;5;33mDropout\u001b[0m)             │ (\u001b[38;5;45mNone\u001b[0m, \u001b[38;5;34m1\u001b[0m, \u001b[38;5;34m64\u001b[0m)          │             \u001b[38;5;34m0\u001b[0m │\n",
       "├─────────────────────────────────┼────────────────────────┼───────────────┤\n",
       "│ lstm_5 (\u001b[38;5;33mLSTM\u001b[0m)                   │ (\u001b[38;5;45mNone\u001b[0m, \u001b[38;5;34m64\u001b[0m)             │        \u001b[38;5;34m33,024\u001b[0m │\n",
       "├─────────────────────────────────┼────────────────────────┼───────────────┤\n",
       "│ dropout_5 (\u001b[38;5;33mDropout\u001b[0m)             │ (\u001b[38;5;45mNone\u001b[0m, \u001b[38;5;34m64\u001b[0m)             │             \u001b[38;5;34m0\u001b[0m │\n",
       "├─────────────────────────────────┼────────────────────────┼───────────────┤\n",
       "│ dense_4 (\u001b[38;5;33mDense\u001b[0m)                 │ (\u001b[38;5;45mNone\u001b[0m, \u001b[38;5;34m32\u001b[0m)             │         \u001b[38;5;34m2,080\u001b[0m │\n",
       "├─────────────────────────────────┼────────────────────────┼───────────────┤\n",
       "│ dense_5 (\u001b[38;5;33mDense\u001b[0m)                 │ (\u001b[38;5;45mNone\u001b[0m, \u001b[38;5;34m15\u001b[0m)             │           \u001b[38;5;34m495\u001b[0m │\n",
       "└─────────────────────────────────┴────────────────────────┴───────────────┘\n"
      ]
     },
     "metadata": {},
     "output_type": "display_data"
    },
    {
     "data": {
      "text/html": [
       "<pre style=\"white-space:pre;overflow-x:auto;line-height:normal;font-family:Menlo,'DejaVu Sans Mono',consolas,'Courier New',monospace\"><span style=\"font-weight: bold\"> Total params: </span><span style=\"color: #00af00; text-decoration-color: #00af00\">72,207</span> (282.06 KB)\n",
       "</pre>\n"
      ],
      "text/plain": [
       "\u001b[1m Total params: \u001b[0m\u001b[38;5;34m72,207\u001b[0m (282.06 KB)\n"
      ]
     },
     "metadata": {},
     "output_type": "display_data"
    },
    {
     "data": {
      "text/html": [
       "<pre style=\"white-space:pre;overflow-x:auto;line-height:normal;font-family:Menlo,'DejaVu Sans Mono',consolas,'Courier New',monospace\"><span style=\"font-weight: bold\"> Trainable params: </span><span style=\"color: #00af00; text-decoration-color: #00af00\">72,207</span> (282.06 KB)\n",
       "</pre>\n"
      ],
      "text/plain": [
       "\u001b[1m Trainable params: \u001b[0m\u001b[38;5;34m72,207\u001b[0m (282.06 KB)\n"
      ]
     },
     "metadata": {},
     "output_type": "display_data"
    },
    {
     "data": {
      "text/html": [
       "<pre style=\"white-space:pre;overflow-x:auto;line-height:normal;font-family:Menlo,'DejaVu Sans Mono',consolas,'Courier New',monospace\"><span style=\"font-weight: bold\"> Non-trainable params: </span><span style=\"color: #00af00; text-decoration-color: #00af00\">0</span> (0.00 B)\n",
       "</pre>\n"
      ],
      "text/plain": [
       "\u001b[1m Non-trainable params: \u001b[0m\u001b[38;5;34m0\u001b[0m (0.00 B)\n"
      ]
     },
     "metadata": {},
     "output_type": "display_data"
    }
   ],
   "source": [
    "model.summary()"
   ]
  },
  {
   "cell_type": "markdown",
   "id": "e45cf4c7-862e-401b-b51c-909cb21b4a41",
   "metadata": {},
   "source": [
    "### Paso 4: Entrenar"
   ]
  },
  {
   "cell_type": "code",
   "execution_count": null,
   "id": "dd9851f0-705d-434c-b6b3-9751077763bd",
   "metadata": {},
   "outputs": [
    {
     "name": "stdout",
     "output_type": "stream",
     "text": [
      "Epoch 1/20\n"
     ]
    }
   ],
   "source": [
    "history = model.fit(X_train, y_train, epochs=20, batch_size=128, validation_data=(X_val, y_val), verbose=1)"
   ]
  },
  {
   "cell_type": "code",
   "execution_count": null,
   "id": "dce7e47f-900e-4080-9335-087d0d4f1af4",
   "metadata": {},
   "outputs": [],
   "source": []
  }
 ],
 "metadata": {
  "kernelspec": {
   "display_name": "Python 3 (ipykernel)",
   "language": "python",
   "name": "python3"
  },
  "language_info": {
   "codemirror_mode": {
    "name": "ipython",
    "version": 3
   },
   "file_extension": ".py",
   "mimetype": "text/x-python",
   "name": "python",
   "nbconvert_exporter": "python",
   "pygments_lexer": "ipython3",
   "version": "3.12.11"
  }
 },
 "nbformat": 4,
 "nbformat_minor": 5
}
